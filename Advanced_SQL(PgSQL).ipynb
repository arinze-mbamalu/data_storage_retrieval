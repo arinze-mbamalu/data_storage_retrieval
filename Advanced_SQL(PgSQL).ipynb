{
  "cells": [
    {
      "cell_type": "markdown",
      "metadata": {
        "id": "view-in-github",
        "colab_type": "text"
      },
      "source": [
        "<a href=\"https://colab.research.google.com/github/arinze-mbamalu/data_storage_retrieval/blob/main/Advanced_SQL(PgSQL).ipynb\" target=\"_parent\"><img src=\"https://colab.research.google.com/assets/colab-badge.svg\" alt=\"Open In Colab\"/></a>"
      ]
    },
    {
      "cell_type": "markdown",
      "id": "c8c4b124",
      "metadata": {
        "id": "c8c4b124"
      },
      "source": [
        "#        Data Storage and Retrieval"
      ]
    },
    {
      "cell_type": "markdown",
      "id": "f0a2dc3e",
      "metadata": {
        "id": "f0a2dc3e"
      },
      "source": [
        "### Task 1: Create and populate a database using the data from the provided \"books\" CSV file."
      ]
    },
    {
      "cell_type": "code",
      "execution_count": null,
      "id": "164ac615",
      "metadata": {
        "scrolled": true,
        "id": "164ac615",
        "outputId": "313b076e-d53e-4c1d-a96a-3c13210fdff7"
      },
      "outputs": [
        {
          "name": "stdout",
          "output_type": "stream",
          "text": [
            "Requirement already satisfied: psycopg2 in c:\\users\\eedc\\anaconda\\lib\\site-packages (2.9.10)\n"
          ]
        },
        {
          "name": "stderr",
          "output_type": "stream",
          "text": [
            "WARNING: Ignoring invalid distribution - (c:\\users\\eedc\\anaconda\\lib\\site-packages)\n",
            "WARNING: Ignoring invalid distribution - (c:\\users\\eedc\\anaconda\\lib\\site-packages)\n",
            "WARNING: Ignoring invalid distribution - (c:\\users\\eedc\\anaconda\\lib\\site-packages)\n",
            "WARNING: Ignoring invalid distribution - (c:\\users\\eedc\\anaconda\\lib\\site-packages)\n",
            "WARNING: Ignoring invalid distribution - (c:\\users\\eedc\\anaconda\\lib\\site-packages)\n",
            "WARNING: Ignoring invalid distribution - (c:\\users\\eedc\\anaconda\\lib\\site-packages)\n"
          ]
        }
      ],
      "source": [
        "'''if psycopg2 has not been installed, then execute the following statement to install the package'''\n",
        "!pip install psycopg2\n",
        "\n",
        "import psycopg2      # import the PostgreSQL database adapter\n",
        "import csv           #import this csv library to read a csv file"
      ]
    },
    {
      "cell_type": "code",
      "execution_count": null,
      "id": "8ddae358",
      "metadata": {
        "id": "8ddae358"
      },
      "outputs": [],
      "source": [
        "# Database connection parameters\n",
        "DB_HOST = \"localhost\"\n",
        "DB_NAME = \"SMART_LIB\"\n",
        "DB_USER = \"postgres\"\n",
        "DB_PASSWORD = \"Passw0rd\"\n",
        "DB_PORTNUMBER=\"5432\"\n",
        "\n",
        "# PostgreSQL function to connect to the database\n",
        "def connect_to_db():\n",
        "    return psycopg2.connect(\n",
        "        dbname=DB_NAME,\n",
        "        user=DB_USER,\n",
        "        password=DB_PASSWORD,\n",
        "        host=DB_HOST,\n",
        "        port=DB_PORTNUMBER)\n"
      ]
    },
    {
      "cell_type": "code",
      "execution_count": null,
      "id": "a8176985",
      "metadata": {
        "id": "a8176985",
        "outputId": "a8dcd22a-4688-4ce0-8431-337cb32a4623"
      },
      "outputs": [
        {
          "name": "stdout",
          "output_type": "stream",
          "text": [
            "Table created successfully\n"
          ]
        }
      ],
      "source": [
        "# Create table in Postgresql\n",
        "conn = connect_to_db() # connect to PostgreSQL\n",
        "cur = conn.cursor()    # Executes PostgreSQL command in a database session\n",
        "\n",
        "# Using the create table SQL statements to create the books table in the postgresql database\n",
        "sql = '''CREATE TABLE books(bookID Integer PRIMARY KEY,title VARCHAR(200) NOT NULL,authors VARCHAR(200) NOT NULL,\n",
        "average_rating FLOAT,isbn VARCHAR(100) NOT NULL,isbn13 BIGINT NOT NULL,language_code VARCHAR(20) NOT NULL, num_pages INTEGER NOT NULL,\n",
        "ratings_count INTEGER NOT NULL,text_reviews_count INTEGER NOT NULL,publication_date DATE, publisher VARCHAR(100) NOT NULL)'''\n",
        "cur.execute(sql)  # Runs or executes the query\n",
        "\n",
        "conn.commit() # Save to the database\n",
        "print(\"Table created successfully\")"
      ]
    },
    {
      "cell_type": "code",
      "execution_count": null,
      "id": "61b208af",
      "metadata": {
        "id": "61b208af",
        "outputId": "454ff852-1ff3-42ac-cbc3-9b1b5fb70aa1"
      },
      "outputs": [
        {
          "name": "stdout",
          "output_type": "stream",
          "text": [
            "Data populated successfully\n"
          ]
        }
      ],
      "source": [
        "# Main function to populate data in the database\n",
        "def insert_data():\n",
        "    conn = connect_to_db()  #Connect to PostgreSQL\n",
        "    cur = conn.cursor()    # Executes PostgreSQL command in a database session\n",
        "\n",
        "# Drop the book.csv file in the root folder of the python application or specify the path of the csv file if not in the python root folder\n",
        "# Using the with statements and the open function; open the book.csv file to read the file\n",
        "    with open('book.csv','r') as file:\n",
        "        data_reader=csv.reader(file)\n",
        "        next(data_reader) # skip the header row\n",
        "\n",
        "    #Iterate or loop over the book csv file and insert each row into the books table\n",
        "        for row in data_reader:\n",
        "            cur.execute(\"INSERT INTO books(bookID,title,authors,average_rating,isbn,isbn13,language_code,num_pages,ratings_count,text_reviews_count,publication_date,publisher) VALUES(%s, %s, %s, %s, %s, %s, %s, %s, %s, %s, %s, %s)\", row)\n",
        "\n",
        "    conn.commit() # Save to the database\n",
        "    cur.close()  # Close Postgresql command in a database session\n",
        "    conn.close() # Close database connection\n",
        "    print(\"Data populated successfully\")\n",
        "\n",
        "\n",
        "# Executes the Main function(insert_data) as a script\n",
        "if __name__ == \"__main__\":\n",
        "    insert_data()"
      ]
    },
    {
      "cell_type": "markdown",
      "id": "b214b3d8",
      "metadata": {
        "id": "b214b3d8"
      },
      "source": [
        "### Task 2: Database Queries."
      ]
    },
    {
      "cell_type": "code",
      "execution_count": null,
      "id": "ab73cb79",
      "metadata": {
        "id": "ab73cb79",
        "outputId": "12925c64-b4a3-4ca3-dee8-e990af2f1c66"
      },
      "outputs": [
        {
          "name": "stdout",
          "output_type": "stream",
          "text": [
            "[(19,)]\n"
          ]
        }
      ],
      "source": [
        "# Query and execute the number of books that have ratings greater or equal to 4.5 from the books table using the COUNT function\n",
        "cur.execute(\"SELECT count(*) as COUNT FROM books WHERE average_rating >= 4.5;\")\n",
        "\n",
        "print(cur.fetchall())  # fetches all rows of a query result set"
      ]
    },
    {
      "cell_type": "code",
      "execution_count": null,
      "id": "df72eb43",
      "metadata": {
        "id": "df72eb43",
        "outputId": "10066b0d-7791-4a9b-aa5c-6454130de1ee"
      },
      "outputs": [
        {
          "name": "stdout",
          "output_type": "stream",
          "text": [
            "[(3.929389830508472,)]\n"
          ]
        }
      ],
      "source": [
        "# Query and execute the mean value of average ratings of all the books using the AVG function\n",
        "cur.execute(\"SELECT AVG(average_rating) as Mean_Value FROM books;\")\n",
        "\n",
        "print(cur.fetchall())  # fetches all rows of a query result set"
      ]
    },
    {
      "cell_type": "code",
      "execution_count": null,
      "id": "9a5feae9",
      "metadata": {
        "id": "9a5feae9",
        "outputId": "25f4c2bc-71ca-443a-afe2-2e19ce8cbe8b"
      },
      "outputs": [
        {
          "name": "stdout",
          "output_type": "stream",
          "text": [
            "[('Harry Potter Collection (Harry Potter  #1-6)', 'J.K. Rowling')]\n"
          ]
        }
      ],
      "source": [
        "# Query and execute the records using a sub query to find the highest number of pages using the MAX function\n",
        "cur.execute(\"SELECT title,authors FROM books WHERE num_pages in (SELECT MAX(num_pages) FROM books);\")\n",
        "\n",
        "print(cur.fetchall())  # fetches all rows of a query result set"
      ]
    },
    {
      "cell_type": "code",
      "execution_count": null,
      "id": "becfccab",
      "metadata": {
        "id": "becfccab"
      },
      "outputs": [],
      "source": []
    }
  ],
  "metadata": {
    "kernelspec": {
      "display_name": "Python 3 (ipykernel)",
      "language": "python",
      "name": "python3"
    },
    "language_info": {
      "codemirror_mode": {
        "name": "ipython",
        "version": 3
      },
      "file_extension": ".py",
      "mimetype": "text/x-python",
      "name": "python",
      "nbconvert_exporter": "python",
      "pygments_lexer": "ipython3",
      "version": "3.9.12"
    },
    "colab": {
      "provenance": [],
      "include_colab_link": true
    }
  },
  "nbformat": 4,
  "nbformat_minor": 5
}